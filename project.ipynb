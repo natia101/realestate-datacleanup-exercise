{
 "cells": [
  {
   "cell_type": "markdown",
   "id": "c4e52ee5",
   "metadata": {},
   "source": [
    "## The dataset\n",
    "\n",
    "This is a real dataset and it was downloaded using web scraping techniques. The data contains registers from fotocasa which is one of the most popular websites of real estate in Spain. Please, do not do this (web scraping) unless it is for academic purposes.\n",
    "\n",
    "The dataset was downloaded a few years ago by Henry Navarro and In no case were economic returns obtained from it.\n",
    "\n",
    "It contains thousands of data from real homes published on the web www.fotocasa.com. Your goal is to extract as much information as possible with the knowledge you have so far about data science, for example what is the most expensive home in the entire dataset?\n",
    "\n",
    "Let's start with precisely that question... Good luck!\n"
   ]
  },
  {
   "cell_type": "markdown",
   "id": "dd97255d",
   "metadata": {},
   "source": [
    "#### Read the dataset assets/real_estate.csv and try to visualize the table (★☆☆)"
   ]
  },
  {
   "cell_type": "code",
   "execution_count": 2,
   "id": "4b93d9c8",
   "metadata": {},
   "outputs": [
    {
     "name": "stdout",
     "output_type": "stream",
     "text": [
      "Requirement already satisfied: pandas>=1.1.4 in /workspace/.pyenv_mirror/user/current/lib/python3.8/site-packages (from -r requirements.txt (line 4)) (1.4.3)\n",
      "Requirement already satisfied: numpy>=1.18.5 in /workspace/.pyenv_mirror/user/current/lib/python3.8/site-packages (from -r requirements.txt (line 5)) (1.23.2)\n",
      "Requirement already satisfied: opencv-python>=4.1.2 in /workspace/.pyenv_mirror/user/current/lib/python3.8/site-packages (from -r requirements.txt (line 6)) (4.6.0.66)\n",
      "Requirement already satisfied: matplotlib>=3.2.2 in /workspace/.pyenv_mirror/user/current/lib/python3.8/site-packages (from -r requirements.txt (line 7)) (3.5.3)\n",
      "Requirement already satisfied: ipyleaflet>=0.14.0 in /workspace/.pyenv_mirror/user/current/lib/python3.8/site-packages (from -r requirements.txt (line 8)) (0.17.1)\n",
      "Requirement already satisfied: sklearn in /workspace/.pyenv_mirror/user/current/lib/python3.8/site-packages (from -r requirements.txt (line 11)) (0.0)\n",
      "Requirement already satisfied: pytz>=2020.1 in /workspace/.pyenv_mirror/user/current/lib/python3.8/site-packages (from pandas>=1.1.4->-r requirements.txt (line 4)) (2022.2.1)\n",
      "Requirement already satisfied: python-dateutil>=2.8.1 in /home/gitpod/.pyenv/versions/3.8.13/lib/python3.8/site-packages (from pandas>=1.1.4->-r requirements.txt (line 4)) (2.8.2)\n",
      "Requirement already satisfied: fonttools>=4.22.0 in /workspace/.pyenv_mirror/user/current/lib/python3.8/site-packages (from matplotlib>=3.2.2->-r requirements.txt (line 7)) (4.37.1)\n",
      "Requirement already satisfied: packaging>=20.0 in /home/gitpod/.pyenv/versions/3.8.13/lib/python3.8/site-packages (from matplotlib>=3.2.2->-r requirements.txt (line 7)) (21.3)\n",
      "Requirement already satisfied: cycler>=0.10 in /workspace/.pyenv_mirror/user/current/lib/python3.8/site-packages (from matplotlib>=3.2.2->-r requirements.txt (line 7)) (0.11.0)\n",
      "Requirement already satisfied: kiwisolver>=1.0.1 in /workspace/.pyenv_mirror/user/current/lib/python3.8/site-packages (from matplotlib>=3.2.2->-r requirements.txt (line 7)) (1.4.4)\n",
      "Requirement already satisfied: pillow>=6.2.0 in /workspace/.pyenv_mirror/user/current/lib/python3.8/site-packages (from matplotlib>=3.2.2->-r requirements.txt (line 7)) (9.2.0)\n",
      "Requirement already satisfied: pyparsing>=2.2.1 in /home/gitpod/.pyenv/versions/3.8.13/lib/python3.8/site-packages (from matplotlib>=3.2.2->-r requirements.txt (line 7)) (3.0.9)\n",
      "Requirement already satisfied: xyzservices>=2021.8.1 in /workspace/.pyenv_mirror/user/current/lib/python3.8/site-packages (from ipyleaflet>=0.14.0->-r requirements.txt (line 8)) (2022.6.0)\n",
      "Requirement already satisfied: branca>=0.5.0 in /workspace/.pyenv_mirror/user/current/lib/python3.8/site-packages (from ipyleaflet>=0.14.0->-r requirements.txt (line 8)) (0.5.0)\n",
      "Requirement already satisfied: traittypes<3,>=0.2.1 in /workspace/.pyenv_mirror/user/current/lib/python3.8/site-packages (from ipyleaflet>=0.14.0->-r requirements.txt (line 8)) (0.2.1)\n",
      "Requirement already satisfied: ipywidgets<9,>=7.6.0 in /workspace/.pyenv_mirror/user/current/lib/python3.8/site-packages (from ipyleaflet>=0.14.0->-r requirements.txt (line 8)) (8.0.1)\n",
      "Requirement already satisfied: scikit-learn in /workspace/.pyenv_mirror/user/current/lib/python3.8/site-packages (from sklearn->-r requirements.txt (line 11)) (1.1.2)\n",
      "Requirement already satisfied: jinja2 in /home/gitpod/.pyenv/versions/3.8.13/lib/python3.8/site-packages (from branca>=0.5.0->ipyleaflet>=0.14.0->-r requirements.txt (line 8)) (3.1.2)\n",
      "Requirement already satisfied: widgetsnbextension~=4.0 in /workspace/.pyenv_mirror/user/current/lib/python3.8/site-packages (from ipywidgets<9,>=7.6.0->ipyleaflet>=0.14.0->-r requirements.txt (line 8)) (4.0.2)\n",
      "Requirement already satisfied: jupyterlab-widgets~=3.0 in /workspace/.pyenv_mirror/user/current/lib/python3.8/site-packages (from ipywidgets<9,>=7.6.0->ipyleaflet>=0.14.0->-r requirements.txt (line 8)) (3.0.2)\n",
      "Requirement already satisfied: ipykernel>=4.5.1 in /home/gitpod/.pyenv/versions/3.8.13/lib/python3.8/site-packages (from ipywidgets<9,>=7.6.0->ipyleaflet>=0.14.0->-r requirements.txt (line 8)) (6.15.1)\n",
      "Requirement already satisfied: traitlets>=4.3.1 in /home/gitpod/.pyenv/versions/3.8.13/lib/python3.8/site-packages (from ipywidgets<9,>=7.6.0->ipyleaflet>=0.14.0->-r requirements.txt (line 8)) (5.3.0)\n",
      "Requirement already satisfied: ipython>=6.1.0 in /home/gitpod/.pyenv/versions/3.8.13/lib/python3.8/site-packages (from ipywidgets<9,>=7.6.0->ipyleaflet>=0.14.0->-r requirements.txt (line 8)) (8.4.0)\n",
      "Requirement already satisfied: six>=1.5 in /home/gitpod/.pyenv/versions/3.8.13/lib/python3.8/site-packages (from python-dateutil>=2.8.1->pandas>=1.1.4->-r requirements.txt (line 4)) (1.16.0)\n",
      "Requirement already satisfied: joblib>=1.0.0 in /workspace/.pyenv_mirror/user/current/lib/python3.8/site-packages (from scikit-learn->sklearn->-r requirements.txt (line 11)) (1.1.0)\n",
      "Requirement already satisfied: threadpoolctl>=2.0.0 in /workspace/.pyenv_mirror/user/current/lib/python3.8/site-packages (from scikit-learn->sklearn->-r requirements.txt (line 11)) (3.1.0)\n",
      "Requirement already satisfied: scipy>=1.3.2 in /workspace/.pyenv_mirror/user/current/lib/python3.8/site-packages (from scikit-learn->sklearn->-r requirements.txt (line 11)) (1.9.1)\n",
      "Requirement already satisfied: matplotlib-inline>=0.1 in /home/gitpod/.pyenv/versions/3.8.13/lib/python3.8/site-packages (from ipykernel>=4.5.1->ipywidgets<9,>=7.6.0->ipyleaflet>=0.14.0->-r requirements.txt (line 8)) (0.1.3)\n",
      "Requirement already satisfied: tornado>=6.1 in /home/gitpod/.pyenv/versions/3.8.13/lib/python3.8/site-packages (from ipykernel>=4.5.1->ipywidgets<9,>=7.6.0->ipyleaflet>=0.14.0->-r requirements.txt (line 8)) (6.2)\n",
      "Requirement already satisfied: debugpy>=1.0 in /home/gitpod/.pyenv/versions/3.8.13/lib/python3.8/site-packages (from ipykernel>=4.5.1->ipywidgets<9,>=7.6.0->ipyleaflet>=0.14.0->-r requirements.txt (line 8)) (1.6.2)\n",
      "Requirement already satisfied: jupyter-client>=6.1.12 in /home/gitpod/.pyenv/versions/3.8.13/lib/python3.8/site-packages (from ipykernel>=4.5.1->ipywidgets<9,>=7.6.0->ipyleaflet>=0.14.0->-r requirements.txt (line 8)) (7.3.4)\n",
      "Requirement already satisfied: psutil in /home/gitpod/.pyenv/versions/3.8.13/lib/python3.8/site-packages (from ipykernel>=4.5.1->ipywidgets<9,>=7.6.0->ipyleaflet>=0.14.0->-r requirements.txt (line 8)) (5.9.1)\n",
      "Requirement already satisfied: nest-asyncio in /home/gitpod/.pyenv/versions/3.8.13/lib/python3.8/site-packages (from ipykernel>=4.5.1->ipywidgets<9,>=7.6.0->ipyleaflet>=0.14.0->-r requirements.txt (line 8)) (1.5.5)\n",
      "Requirement already satisfied: pyzmq>=17 in /home/gitpod/.pyenv/versions/3.8.13/lib/python3.8/site-packages (from ipykernel>=4.5.1->ipywidgets<9,>=7.6.0->ipyleaflet>=0.14.0->-r requirements.txt (line 8)) (23.2.0)\n",
      "Requirement already satisfied: pexpect>4.3 in /home/gitpod/.pyenv/versions/3.8.13/lib/python3.8/site-packages (from ipython>=6.1.0->ipywidgets<9,>=7.6.0->ipyleaflet>=0.14.0->-r requirements.txt (line 8)) (4.8.0)\n",
      "Requirement already satisfied: decorator in /home/gitpod/.pyenv/versions/3.8.13/lib/python3.8/site-packages (from ipython>=6.1.0->ipywidgets<9,>=7.6.0->ipyleaflet>=0.14.0->-r requirements.txt (line 8)) (5.1.1)\n",
      "Requirement already satisfied: setuptools>=18.5 in /home/gitpod/.pyenv/versions/3.8.13/lib/python3.8/site-packages (from ipython>=6.1.0->ipywidgets<9,>=7.6.0->ipyleaflet>=0.14.0->-r requirements.txt (line 8)) (64.0.0)\n",
      "Requirement already satisfied: jedi>=0.16 in /home/gitpod/.pyenv/versions/3.8.13/lib/python3.8/site-packages (from ipython>=6.1.0->ipywidgets<9,>=7.6.0->ipyleaflet>=0.14.0->-r requirements.txt (line 8)) (0.18.1)\n",
      "Requirement already satisfied: prompt-toolkit!=3.0.0,!=3.0.1,<3.1.0,>=2.0.0 in /home/gitpod/.pyenv/versions/3.8.13/lib/python3.8/site-packages (from ipython>=6.1.0->ipywidgets<9,>=7.6.0->ipyleaflet>=0.14.0->-r requirements.txt (line 8)) (3.0.30)\n",
      "Requirement already satisfied: stack-data in /home/gitpod/.pyenv/versions/3.8.13/lib/python3.8/site-packages (from ipython>=6.1.0->ipywidgets<9,>=7.6.0->ipyleaflet>=0.14.0->-r requirements.txt (line 8)) (0.3.0)\n",
      "Requirement already satisfied: pygments>=2.4.0 in /home/gitpod/.pyenv/versions/3.8.13/lib/python3.8/site-packages (from ipython>=6.1.0->ipywidgets<9,>=7.6.0->ipyleaflet>=0.14.0->-r requirements.txt (line 8)) (2.12.0)\n",
      "Requirement already satisfied: backcall in /home/gitpod/.pyenv/versions/3.8.13/lib/python3.8/site-packages (from ipython>=6.1.0->ipywidgets<9,>=7.6.0->ipyleaflet>=0.14.0->-r requirements.txt (line 8)) (0.2.0)\n",
      "Requirement already satisfied: pickleshare in /home/gitpod/.pyenv/versions/3.8.13/lib/python3.8/site-packages (from ipython>=6.1.0->ipywidgets<9,>=7.6.0->ipyleaflet>=0.14.0->-r requirements.txt (line 8)) (0.7.5)\n",
      "Requirement already satisfied: MarkupSafe>=2.0 in /home/gitpod/.pyenv/versions/3.8.13/lib/python3.8/site-packages (from jinja2->branca>=0.5.0->ipyleaflet>=0.14.0->-r requirements.txt (line 8)) (2.1.1)\n",
      "Requirement already satisfied: parso<0.9.0,>=0.8.0 in /home/gitpod/.pyenv/versions/3.8.13/lib/python3.8/site-packages (from jedi>=0.16->ipython>=6.1.0->ipywidgets<9,>=7.6.0->ipyleaflet>=0.14.0->-r requirements.txt (line 8)) (0.8.3)\n",
      "Requirement already satisfied: jupyter-core>=4.9.2 in /home/gitpod/.pyenv/versions/3.8.13/lib/python3.8/site-packages (from jupyter-client>=6.1.12->ipykernel>=4.5.1->ipywidgets<9,>=7.6.0->ipyleaflet>=0.14.0->-r requirements.txt (line 8)) (4.11.1)\n",
      "Requirement already satisfied: entrypoints in /home/gitpod/.pyenv/versions/3.8.13/lib/python3.8/site-packages (from jupyter-client>=6.1.12->ipykernel>=4.5.1->ipywidgets<9,>=7.6.0->ipyleaflet>=0.14.0->-r requirements.txt (line 8)) (0.4)\n",
      "Requirement already satisfied: ptyprocess>=0.5 in /home/gitpod/.pyenv/versions/3.8.13/lib/python3.8/site-packages (from pexpect>4.3->ipython>=6.1.0->ipywidgets<9,>=7.6.0->ipyleaflet>=0.14.0->-r requirements.txt (line 8)) (0.7.0)\n",
      "Requirement already satisfied: wcwidth in /home/gitpod/.pyenv/versions/3.8.13/lib/python3.8/site-packages (from prompt-toolkit!=3.0.0,!=3.0.1,<3.1.0,>=2.0.0->ipython>=6.1.0->ipywidgets<9,>=7.6.0->ipyleaflet>=0.14.0->-r requirements.txt (line 8)) (0.2.5)\n",
      "Requirement already satisfied: pure-eval in /home/gitpod/.pyenv/versions/3.8.13/lib/python3.8/site-packages (from stack-data->ipython>=6.1.0->ipywidgets<9,>=7.6.0->ipyleaflet>=0.14.0->-r requirements.txt (line 8)) (0.2.2)\n",
      "Requirement already satisfied: executing in /home/gitpod/.pyenv/versions/3.8.13/lib/python3.8/site-packages (from stack-data->ipython>=6.1.0->ipywidgets<9,>=7.6.0->ipyleaflet>=0.14.0->-r requirements.txt (line 8)) (0.9.1)\n",
      "Requirement already satisfied: asttokens in /home/gitpod/.pyenv/versions/3.8.13/lib/python3.8/site-packages (from stack-data->ipython>=6.1.0->ipywidgets<9,>=7.6.0->ipyleaflet>=0.14.0->-r requirements.txt (line 8)) (2.0.7)\n"
     ]
    }
   ],
   "source": [
    "!pip install -r requirements.txt"
   ]
  },
  {
   "cell_type": "code",
   "execution_count": 3,
   "id": "ad4c6d01",
   "metadata": {},
   "outputs": [],
   "source": [
    "import numpy as np\n",
    "import pandas as pd\n",
    "import matplotlib.pyplot as plt"
   ]
  },
  {
   "cell_type": "code",
   "execution_count": 4,
   "id": "3ab0f89e",
   "metadata": {},
   "outputs": [
    {
     "data": {
      "text/plain": [
       "<bound method NDFrame.sample of        Unnamed: 0  id_realEstates  isNew                    realEstate_name  \\\n",
       "0               1       153771986  False            ferrari 57 inmobiliaria   \n",
       "1               2       153867863  False  tecnocasa fuenlabrada ferrocarril   \n",
       "2               3       153430440  False                 look find boadilla   \n",
       "3               4       152776331  False  tecnocasa fuenlabrada ferrocarril   \n",
       "4               5       153180188  False            ferrari 57 inmobiliaria   \n",
       "...           ...             ...    ...                                ...   \n",
       "15330       15331       153901377  False                infocasa consulting   \n",
       "15331       15332       150394373  False                inmobiliaria pulpon   \n",
       "15332       15333       153901397  False             tecnocasa torrelodones   \n",
       "15333       15334       152607440  False                inmobiliaria pulpon   \n",
       "15334       15335       153901356  False                infocasa consulting   \n",
       "\n",
       "       phone_realEstate                                       url_inmueble  \\\n",
       "0           912177526.0  https://www.fotocasa.es/es/comprar/vivienda/ma...   \n",
       "1           916358736.0  https://www.fotocasa.es/es/comprar/vivienda/ma...   \n",
       "2           916350408.0  https://www.fotocasa.es/es/comprar/vivienda/ma...   \n",
       "3           916358736.0  https://www.fotocasa.es/es/comprar/vivienda/ma...   \n",
       "4           912177526.0  https://www.fotocasa.es/es/comprar/vivienda/ma...   \n",
       "...                 ...                                                ...   \n",
       "15330       911360461.0  https://www.fotocasa.es/es/comprar/vivienda/ma...   \n",
       "15331       912788039.0  https://www.fotocasa.es/es/comprar/vivienda/ma...   \n",
       "15332       912780348.0  https://www.fotocasa.es/es/comprar/vivienda/ma...   \n",
       "15333       912788039.0  https://www.fotocasa.es/es/comprar/vivienda/ma...   \n",
       "15334       911360461.0  https://www.fotocasa.es/es/comprar/vivienda/ma...   \n",
       "\n",
       "       rooms  bathrooms  surface   price  ... level4Id level5Id level6Id  \\\n",
       "0        3.0        2.0    103.0  195000  ...        0        0        0   \n",
       "1        3.0        1.0      NaN   89000  ...        0        0        0   \n",
       "2        2.0        2.0     99.0  390000  ...        0        0        0   \n",
       "3        3.0        1.0     86.0   89000  ...        0        0        0   \n",
       "4        2.0        2.0    106.0  172000  ...        0        0        0   \n",
       "...      ...        ...      ...     ...  ...      ...      ...      ...   \n",
       "15330    2.0        1.0     96.0  259470  ...        0        0        0   \n",
       "15331    3.0        1.0    150.0  165000  ...        0        0        0   \n",
       "15332    4.0        2.0    175.0  495000  ...        0        0        0   \n",
       "15333    3.0        2.0    101.0  195000  ...        0        0        0   \n",
       "15334    3.0        2.0    152.0  765000  ...        0        0        0   \n",
       "\n",
       "      level7Id level8Id accuracy          latitude          longitude zipCode  \\\n",
       "0            0        0        0  40,2948276786438  -3,44402412135624     NaN   \n",
       "1            0        0        1          40,28674           -3,79351     NaN   \n",
       "2            0        0        0  40,4115646786438  -3,90662252135624     NaN   \n",
       "3            0        0        0  40,2853785786438  -3,79508142135624     NaN   \n",
       "4            0        0        0  40,2998774864376  -3,45226301356237     NaN   \n",
       "...        ...      ...      ...               ...                ...     ...   \n",
       "15330        0        0        0          40,45416           -3,70286     NaN   \n",
       "15331        0        0        0          40,36652           -3,48951     NaN   \n",
       "15332        0        0        0          40,57444           -3,92124     NaN   \n",
       "15333        0        0        0          40,36967           -3,48105     NaN   \n",
       "15334        0        0        0          40,45773           -3,69068     NaN   \n",
       "\n",
       "      customZone  \n",
       "0            NaN  \n",
       "1            NaN  \n",
       "2            NaN  \n",
       "3            NaN  \n",
       "4            NaN  \n",
       "...          ...  \n",
       "15330        NaN  \n",
       "15331        NaN  \n",
       "15332        NaN  \n",
       "15333        NaN  \n",
       "15334        NaN  \n",
       "\n",
       "[15335 rows x 37 columns]>"
      ]
     },
     "execution_count": 4,
     "metadata": {},
     "output_type": "execute_result"
    }
   ],
   "source": [
    "df = pd.read_csv(\"./assets/real_estate.csv\", sep=\";\")\n",
    "df.head\n",
    "df.sample"
   ]
  },
  {
   "cell_type": "markdown",
   "id": "40631cd6",
   "metadata": {},
   "source": [
    "#### What is the most expensive home in the dataset? (★☆☆)"
   ]
  },
  {
   "cell_type": "code",
   "execution_count": 5,
   "id": "8a758bcf",
   "metadata": {},
   "outputs": [
    {
     "name": "stdout",
     "output_type": "stream",
     "text": [
      "The most expensive home in the dataset costs 8500000\n"
     ]
    }
   ],
   "source": [
    "most_exp_home = df.loc[df['price'].idxmax()]\n",
    "print(f'The most expensive home in the dataset costs {most_exp_home[\"price\"]}')"
   ]
  },
  {
   "cell_type": "markdown",
   "id": "0a708990",
   "metadata": {},
   "source": [
    "#### What is cheapest home in the dataset? (★☆☆)"
   ]
  },
  {
   "cell_type": "code",
   "execution_count": 6,
   "id": "477e01f4",
   "metadata": {},
   "outputs": [
    {
     "name": "stdout",
     "output_type": "stream",
     "text": [
      "The cheapest home in the dataset costs 600\n"
     ]
    }
   ],
   "source": [
    "cheapest_home = df.loc[df['price'][df['price'] > 0].idxmin()]\n",
    "print(f'The cheapest home in the dataset costs {cheapest_home[\"price\"]}')"
   ]
  },
  {
   "cell_type": "markdown",
   "id": "0b16cd77",
   "metadata": {},
   "source": [
    "#### What is the biggest and the smallest home in the dataset? (★☆☆)"
   ]
  },
  {
   "cell_type": "code",
   "execution_count": 7,
   "id": "4d9b5975",
   "metadata": {},
   "outputs": [],
   "source": [
    "biggest_home = df.loc[df['surface'].idxmax()]\n",
    "smallest_home = df.loc[df['surface'].idxmin()]"
   ]
  },
  {
   "cell_type": "code",
   "execution_count": 8,
   "id": "57af64f3",
   "metadata": {},
   "outputs": [
    {
     "name": "stdout",
     "output_type": "stream",
     "text": [
      "The surface of the biggest house is 249000.0 m2\n",
      "The surface of the smallest house is 15.0 m2\n"
     ]
    }
   ],
   "source": [
    "print(f'The surface of the biggest house is {biggest_home[\"surface\"]} m2')\n",
    "print(f'The surface of the smallest house is {smallest_home[\"surface\"]} m2')"
   ]
  },
  {
   "cell_type": "markdown",
   "id": "782d4c77",
   "metadata": {},
   "source": [
    "#### How many populations (level5) the dataset contains? (★☆☆)"
   ]
  },
  {
   "cell_type": "code",
   "execution_count": 9,
   "id": "5dbe1a08",
   "metadata": {},
   "outputs": [
    {
     "data": {
      "text/plain": [
       "168"
      ]
     },
     "execution_count": 9,
     "metadata": {},
     "output_type": "execute_result"
    }
   ],
   "source": [
    "len(df['level5'].unique())"
   ]
  },
  {
   "cell_type": "markdown",
   "id": "48d48f01",
   "metadata": {},
   "source": [
    "#### Does the dataset contain NAs? (★☆☆)\n"
   ]
  },
  {
   "cell_type": "code",
   "execution_count": 10,
   "id": "3ed233e7",
   "metadata": {},
   "outputs": [
    {
     "data": {
      "text/plain": [
       "Unnamed: 0              0\n",
       "id_realEstates          0\n",
       "isNew                   0\n",
       "realEstate_name        10\n",
       "phone_realEstate      794\n",
       "url_inmueble            0\n",
       "rooms                 353\n",
       "bathrooms             345\n",
       "surface              1250\n",
       "price                   0\n",
       "date                    0\n",
       "description           142\n",
       "address                 0\n",
       "country                 0\n",
       "level1                  0\n",
       "level2                  0\n",
       "level3                  0\n",
       "level4               6643\n",
       "level5                  0\n",
       "level6              14627\n",
       "level7               2277\n",
       "level8               8579\n",
       "upperLevel              0\n",
       "countryId               0\n",
       "level1Id                0\n",
       "level2Id                0\n",
       "level3Id                0\n",
       "level4Id                0\n",
       "level5Id                0\n",
       "level6Id                0\n",
       "level7Id                0\n",
       "level8Id                0\n",
       "accuracy                0\n",
       "latitude                0\n",
       "longitude               0\n",
       "zipCode             15335\n",
       "customZone          15335\n",
       "dtype: int64"
      ]
     },
     "execution_count": 10,
     "metadata": {},
     "output_type": "execute_result"
    }
   ],
   "source": [
    "df.isnull().sum()"
   ]
  },
  {
   "cell_type": "markdown",
   "id": "4fa39382",
   "metadata": {},
   "source": [
    "#### Delete the NAs of the dataset, if applicable (★★☆)"
   ]
  },
  {
   "cell_type": "code",
   "execution_count": 11,
   "id": "c97757ec",
   "metadata": {},
   "outputs": [],
   "source": [
    "dfnotnull = df.dropna()"
   ]
  },
  {
   "cell_type": "markdown",
   "id": "0e5f76de",
   "metadata": {},
   "source": [
    "#### What is the mean of prices in the population (level5) of \"Arroyomolinos (Madrid)\"? (★★☆)"
   ]
  },
  {
   "cell_type": "code",
   "execution_count": 12,
   "id": "327f7adb",
   "metadata": {},
   "outputs": [
    {
     "name": "stdout",
     "output_type": "stream",
     "text": [
      "294541.59854014596\n"
     ]
    }
   ],
   "source": [
    "mean_price_arroyomolinos = df['price'][df['level5'] == 'Arroyomolinos (Madrid)'].mean()\n",
    "print(mean_price_arroyomolinos)"
   ]
  },
  {
   "cell_type": "markdown",
   "id": "89b548e3",
   "metadata": {},
   "source": [
    "#### Plot the histogram of prices for the population (level5) of \"Arroyomolinos (Madrid)\" and explain what you observe (★★☆)"
   ]
  },
  {
   "cell_type": "code",
   "execution_count": 13,
   "id": "2ba51bf7",
   "metadata": {},
   "outputs": [
    {
     "data": {
      "text/plain": [
       "(array([ 2.,  0.,  0.,  0.,  0.,  0.,  0.,  0.,  0.,  0.,  0.,  0.,  0.,\n",
       "         0.,  0.,  0.,  0.,  0.,  0.,  0.,  0.,  0.,  0.,  0.,  0.,  0.,\n",
       "         0.,  0.,  2.,  1.,  1.,  0.,  3.,  3.,  3.,  6.,  0.,  5.,  3.,\n",
       "         7.,  3.,  0.,  1.,  6.,  2.,  1.,  0.,  3.,  2., 15.,  2.,  2.,\n",
       "         0.,  5.,  4.,  0.,  5.,  8.,  4.,  3.,  7.,  4.,  5.,  1.,  2.,\n",
       "         3.,  2.,  3.,  1.,  0.,  0.,  0.,  1.,  0.,  1.,  0.,  0.,  0.,\n",
       "         0.,  1.,  0.,  0.,  0.,  0.,  1.,  0.,  0.,  0.,  0.,  1.,  0.,\n",
       "         0.,  0.,  1.,  0.,  0.,  0.,  0.,  0.,  1.]),\n",
       " array([     0.,   5800.,  11600.,  17400.,  23200.,  29000.,  34800.,\n",
       "         40600.,  46400.,  52200.,  58000.,  63800.,  69600.,  75400.,\n",
       "         81200.,  87000.,  92800.,  98600., 104400., 110200., 116000.,\n",
       "        121800., 127600., 133400., 139200., 145000., 150800., 156600.,\n",
       "        162400., 168200., 174000., 179800., 185600., 191400., 197200.,\n",
       "        203000., 208800., 214600., 220400., 226200., 232000., 237800.,\n",
       "        243600., 249400., 255200., 261000., 266800., 272600., 278400.,\n",
       "        284200., 290000., 295800., 301600., 307400., 313200., 319000.,\n",
       "        324800., 330600., 336400., 342200., 348000., 353800., 359600.,\n",
       "        365400., 371200., 377000., 382800., 388600., 394400., 400200.,\n",
       "        406000., 411800., 417600., 423400., 429200., 435000., 440800.,\n",
       "        446600., 452400., 458200., 464000., 469800., 475600., 481400.,\n",
       "        487200., 493000., 498800., 504600., 510400., 516200., 522000.,\n",
       "        527800., 533600., 539400., 545200., 551000., 556800., 562600.,\n",
       "        568400., 574200., 580000.]),\n",
       " <BarContainer object of 100 artists>)"
      ]
     },
     "execution_count": 13,
     "metadata": {},
     "output_type": "execute_result"
    },
    {
     "data": {
      "image/png": "[encoded data removed]",
      "text/plain": [
       "<Figure size 432x288 with 1 Axes>"
      ]
     },
     "metadata": {
      "needs_background": "light"
     },
     "output_type": "display_data"
    }
   ],
   "source": [
    "prices_arroyomolinos = df['price'][df['level5'] == 'Arroyomolinos (Madrid)'].values\n",
    "plt.hist(prices_arroyomolinos, bins = 100)"
   ]
  },
  {
   "cell_type": "markdown",
   "id": "c86dc493",
   "metadata": {},
   "source": [
    "#### Now let's work with the \"south belt\" of madrid. Make a subsetting that contains the following populations (level5): \"Fuenlabrada\",\"Leganés\",\"Getafe\",\"Alcorcón\" (★★☆) "
   ]
  },
  {
   "cell_type": "code",
   "execution_count": 14,
   "id": "5280d0cb",
   "metadata": {},
   "outputs": [
    {
     "data": {
      "text/html": [
       "<div>\n",
       "<style scoped>\n",
       "    .dataframe tbody tr th:only-of-type {\n",
       "        vertical-align: middle;\n",
       "    }\n",
       "\n",
       "    .dataframe tbody tr th {\n",
       "        vertical-align: top;\n",
       "    }\n",
       "\n",
       "    .dataframe thead th {\n",
       "        text-align: right;\n",
       "    }\n",
       "</style>\n",
       "<table border=\"1\" class=\"dataframe\">\n",
       "  <thead>\n",
       "    <tr style=\"text-align: right;\">\n",
       "      <th></th>\n",
       "      <th>Unnamed: 0</th>\n",
       "      <th>id_realEstates</th>\n",
       "      <th>isNew</th>\n",
       "      <th>realEstate_name</th>\n",
       "      <th>phone_realEstate</th>\n",
       "      <th>url_inmueble</th>\n",
       "      <th>rooms</th>\n",
       "      <th>bathrooms</th>\n",
       "      <th>surface</th>\n",
       "      <th>price</th>\n",
       "      <th>...</th>\n",
       "      <th>level4Id</th>\n",
       "      <th>level5Id</th>\n",
       "      <th>level6Id</th>\n",
       "      <th>level7Id</th>\n",
       "      <th>level8Id</th>\n",
       "      <th>accuracy</th>\n",
       "      <th>latitude</th>\n",
       "      <th>longitude</th>\n",
       "      <th>zipCode</th>\n",
       "      <th>customZone</th>\n",
       "    </tr>\n",
       "  </thead>\n",
       "  <tbody>\n",
       "    <tr>\n",
       "      <th>1</th>\n",
       "      <td>2</td>\n",
       "      <td>153867863</td>\n",
       "      <td>False</td>\n",
       "      <td>tecnocasa fuenlabrada ferrocarril</td>\n",
       "      <td>916358736.0</td>\n",
       "      <td>https://www.fotocasa.es/es/comprar/vivienda/ma...</td>\n",
       "      <td>3.0</td>\n",
       "      <td>1.0</td>\n",
       "      <td>NaN</td>\n",
       "      <td>89000</td>\n",
       "      <td>...</td>\n",
       "      <td>0</td>\n",
       "      <td>0</td>\n",
       "      <td>0</td>\n",
       "      <td>0</td>\n",
       "      <td>0</td>\n",
       "      <td>1</td>\n",
       "      <td>40,28674</td>\n",
       "      <td>-3,79351</td>\n",
       "      <td>NaN</td>\n",
       "      <td>NaN</td>\n",
       "    </tr>\n",
       "    <tr>\n",
       "      <th>3</th>\n",
       "      <td>4</td>\n",
       "      <td>152776331</td>\n",
       "      <td>False</td>\n",
       "      <td>tecnocasa fuenlabrada ferrocarril</td>\n",
       "      <td>916358736.0</td>\n",
       "      <td>https://www.fotocasa.es/es/comprar/vivienda/ma...</td>\n",
       "      <td>3.0</td>\n",
       "      <td>1.0</td>\n",
       "      <td>86.0</td>\n",
       "      <td>89000</td>\n",
       "      <td>...</td>\n",
       "      <td>0</td>\n",
       "      <td>0</td>\n",
       "      <td>0</td>\n",
       "      <td>0</td>\n",
       "      <td>0</td>\n",
       "      <td>0</td>\n",
       "      <td>40,2853785786438</td>\n",
       "      <td>-3,79508142135624</td>\n",
       "      <td>NaN</td>\n",
       "      <td>NaN</td>\n",
       "    </tr>\n",
       "    <tr>\n",
       "      <th>85</th>\n",
       "      <td>86</td>\n",
       "      <td>153152077</td>\n",
       "      <td>False</td>\n",
       "      <td>sinergical inmobiliaria</td>\n",
       "      <td>NaN</td>\n",
       "      <td>https://www.fotocasa.es/es/comprar/vivienda/le...</td>\n",
       "      <td>1.0</td>\n",
       "      <td>1.0</td>\n",
       "      <td>50.0</td>\n",
       "      <td>107000</td>\n",
       "      <td>...</td>\n",
       "      <td>0</td>\n",
       "      <td>0</td>\n",
       "      <td>0</td>\n",
       "      <td>0</td>\n",
       "      <td>0</td>\n",
       "      <td>1</td>\n",
       "      <td>40,35059</td>\n",
       "      <td>-3,82693</td>\n",
       "      <td>NaN</td>\n",
       "      <td>NaN</td>\n",
       "    </tr>\n",
       "    <tr>\n",
       "      <th>94</th>\n",
       "      <td>95</td>\n",
       "      <td>153995577</td>\n",
       "      <td>False</td>\n",
       "      <td>viviendas365com</td>\n",
       "      <td>911226014.0</td>\n",
       "      <td>https://www.fotocasa.es/es/comprar/vivienda/le...</td>\n",
       "      <td>3.0</td>\n",
       "      <td>2.0</td>\n",
       "      <td>120.0</td>\n",
       "      <td>320000</td>\n",
       "      <td>...</td>\n",
       "      <td>0</td>\n",
       "      <td>0</td>\n",
       "      <td>0</td>\n",
       "      <td>0</td>\n",
       "      <td>0</td>\n",
       "      <td>0</td>\n",
       "      <td>40,31933</td>\n",
       "      <td>-3,77574</td>\n",
       "      <td>NaN</td>\n",
       "      <td>NaN</td>\n",
       "    </tr>\n",
       "    <tr>\n",
       "      <th>109</th>\n",
       "      <td>110</td>\n",
       "      <td>153586414</td>\n",
       "      <td>False</td>\n",
       "      <td>area uno asesores inmobiliarios</td>\n",
       "      <td>912664081.0</td>\n",
       "      <td>https://www.fotocasa.es/es/comprar/vivienda/ma...</td>\n",
       "      <td>3.0</td>\n",
       "      <td>3.0</td>\n",
       "      <td>142.0</td>\n",
       "      <td>425000</td>\n",
       "      <td>...</td>\n",
       "      <td>0</td>\n",
       "      <td>0</td>\n",
       "      <td>0</td>\n",
       "      <td>0</td>\n",
       "      <td>0</td>\n",
       "      <td>0</td>\n",
       "      <td>40,3313411</td>\n",
       "      <td>-3,8313868</td>\n",
       "      <td>NaN</td>\n",
       "      <td>NaN</td>\n",
       "    </tr>\n",
       "  </tbody>\n",
       "</table>\n",
       "<p>5 rows × 37 columns</p>\n",
       "</div>"
      ],
      "text/plain": [
       "     Unnamed: 0  id_realEstates  isNew                    realEstate_name  \\\n",
       "1             2       153867863  False  tecnocasa fuenlabrada ferrocarril   \n",
       "3             4       152776331  False  tecnocasa fuenlabrada ferrocarril   \n",
       "85           86       153152077  False            sinergical inmobiliaria   \n",
       "94           95       153995577  False                    viviendas365com   \n",
       "109         110       153586414  False    area uno asesores inmobiliarios   \n",
       "\n",
       "     phone_realEstate                                       url_inmueble  \\\n",
       "1         916358736.0  https://www.fotocasa.es/es/comprar/vivienda/ma...   \n",
       "3         916358736.0  https://www.fotocasa.es/es/comprar/vivienda/ma...   \n",
       "85                NaN  https://www.fotocasa.es/es/comprar/vivienda/le...   \n",
       "94        911226014.0  https://www.fotocasa.es/es/comprar/vivienda/le...   \n",
       "109       912664081.0  https://www.fotocasa.es/es/comprar/vivienda/ma...   \n",
       "\n",
       "     rooms  bathrooms  surface   price  ... level4Id level5Id level6Id  \\\n",
       "1      3.0        1.0      NaN   89000  ...        0        0        0   \n",
       "3      3.0        1.0     86.0   89000  ...        0        0        0   \n",
       "85     1.0        1.0     50.0  107000  ...        0        0        0   \n",
       "94     3.0        2.0    120.0  320000  ...        0        0        0   \n",
       "109    3.0        3.0    142.0  425000  ...        0        0        0   \n",
       "\n",
       "    level7Id level8Id accuracy          latitude          longitude zipCode  \\\n",
       "1          0        0        1          40,28674           -3,79351     NaN   \n",
       "3          0        0        0  40,2853785786438  -3,79508142135624     NaN   \n",
       "85         0        0        1          40,35059           -3,82693     NaN   \n",
       "94         0        0        0          40,31933           -3,77574     NaN   \n",
       "109        0        0        0        40,3313411         -3,8313868     NaN   \n",
       "\n",
       "    customZone  \n",
       "1          NaN  \n",
       "3          NaN  \n",
       "85         NaN  \n",
       "94         NaN  \n",
       "109        NaN  \n",
       "\n",
       "[5 rows x 37 columns]"
      ]
     },
     "metadata": {},
     "output_type": "display_data"
    }
   ],
   "source": [
    "south_belt = df[df['level5'].isin([\"Fuenlabrada\",\"Leganés\",\"Getafe\",\"Alcorcón\"])]\n",
    "\n",
    "display(south_belt.head()) "
   ]
  },
  {
   "cell_type": "markdown",
   "id": "090a6a3e",
   "metadata": {},
   "source": [
    "#### Make a bar plot of the median of prices (★★★) "
   ]
  },
  {
   "cell_type": "code",
   "execution_count": 15,
   "id": "68aec11c",
   "metadata": {},
   "outputs": [
    {
     "data": {
      "text/plain": [
       "Text(0, 0.5, 'median')"
      ]
     },
     "execution_count": 15,
     "metadata": {},
     "output_type": "execute_result"
    },
    {
     "data": {
      "image/png": "[encoded data removed]",
      "text/plain": [
       "<Figure size 432x288 with 1 Axes>"
      ]
     },
     "metadata": {
      "needs_background": "light"
     },
     "output_type": "display_data"
    }
   ],
   "source": [
    "south_belt.groupby('level5')['price'].median().plot.bar()\n",
    "plt.xlabel('zone')\n",
    "plt.ylabel('median')"
   ]
  },
  {
   "cell_type": "markdown",
   "id": "18f67373",
   "metadata": {},
   "source": [
    "#### Calculate the sample mean and variance of the variables: price, rooms, surface area and bathrooms (★★★) "
   ]
  },
  {
   "cell_type": "code",
   "execution_count": 16,
   "id": "8d068061",
   "metadata": {},
   "outputs": [
    {
     "name": "stdout",
     "output_type": "stream",
     "text": [
      "Mean price: 223094.48070562293, Variance price: 14921367508.04902\n",
      "Mean price: 3.0177383592017737, Variance price: 0.7188858892927542\n",
      "Mean price: 111.75222363405337, Variance price: 4263.051760316337\n",
      "Mean price: 1.633221850613155, Variance price: 0.5717968625577321\n"
     ]
    }
   ],
   "source": [
    "means = np.empty(4)\n",
    "vars = np.empty(4)\n",
    "variables = np.array(['price', 'rooms', 'surface', 'bathrooms'])\n",
    "\n",
    "for variable in variables:\n",
    "    means[np.where(variables == variable)] = south_belt[variable].mean()\n",
    "    vars[np.where(variables == variable)] = south_belt[variable].var()\n",
    "\n",
    "for i in range(4):\n",
    "    print(f'Mean price: {means[i]}, Variance price: {vars[i]}')"
   ]
  },
  {
   "cell_type": "markdown",
   "id": "95cfde61",
   "metadata": {},
   "source": [
    "#### What is the most expensive home of each population? (★★☆) "
   ]
  },
  {
   "cell_type": "code",
   "execution_count": 17,
   "id": "1c29f78c",
   "metadata": {},
   "outputs": [
    {
     "name": "stdout",
     "output_type": "stream",
     "text": [
      "Most expensive bome of each population:\n"
     ]
    },
    {
     "data": {
      "text/plain": [
       "level5\n",
       " Madrid Capital          8000000\n",
       "Ajalvir                   345000\n",
       "Alcalá de Henares         850000\n",
       "Alcobendas               8000000\n",
       "Alcorcón                  950000\n",
       "                          ...   \n",
       "Villar del Olmo           280000\n",
       "Villarejo de Salvanés     226000\n",
       "Villaviciosa de Odón     1900000\n",
       "Villavieja del Lozoya     260000\n",
       "Zarzalejo                 199000\n",
       "Name: price, Length: 168, dtype: int64"
      ]
     },
     "execution_count": 17,
     "metadata": {},
     "output_type": "execute_result"
    }
   ],
   "source": [
    "print(\"Most expensive bome of each population:\")\n",
    "df.groupby(\"level5\")[\"price\"].max()"
   ]
  },
  {
   "cell_type": "markdown",
   "id": "ea67579b",
   "metadata": {},
   "source": [
    "#### Normalize the variable of prices for each population and plot the 4 histograms in the same plot (★★★) "
   ]
  },
  {
   "cell_type": "code",
   "execution_count": 19,
   "id": "385ad99c",
   "metadata": {},
   "outputs": [
    {
     "data": {
      "image/png": "[encoded data removed]",
      "text/plain": [
       "<Figure size 432x288 with 4 Axes>"
      ]
     },
     "metadata": {
      "needs_background": "light"
     },
     "output_type": "display_data"
    }
   ],
   "source": [
    "populations = np.array(['Fuenlabrada', 'Leganés', 'Getafe', 'Alcorcón'])\n",
    "def normalized_prices(population, position):\n",
    "    population_data = south_belt['price'][south_belt['level5'] == population]\n",
    "    max_price = population_data.loc[population_data.idxmax()]\n",
    "    min_price = population_data.loc[population_data.idxmin()]\n",
    "    normalized = (population_data - min_price)/(max_price - min_price)\n",
    "    plt.subplot(2, 2, position)\n",
    "    plt.hist(normalized)\n",
    "    plt.title(population)\n",
    "\n",
    "for population in populations:\n",
    "    normalized_prices(population, int(np.where(populations == population)[0] + 1))"
   ]
  },
  {
   "cell_type": "markdown",
   "id": "2ec1bd5c",
   "metadata": {},
   "source": [
    "#### Make a plot of the coordinates (lat and long) of the south belt of Madrid by color of each population (★★★★) \n",
    "This is a extremely hard exercise and we highly recommend to do it at the end of everything"
   ]
  },
  {
   "cell_type": "code",
   "execution_count": 24,
   "id": "312aac99",
   "metadata": {},
   "outputs": [
    {
     "data": {
      "application/vnd.jupyter.widget-view+json": {
       "model_id": "a58e4e8ae378499191ffedbf9189eec5",
       "version_major": 2,
       "version_minor": 0
      },
      "text/plain": [
       "Map(center=[40.3, -3.6], controls=(ZoomControl(options=['position', 'zoom_in_text', 'zoom_in_title', 'zoom_out…"
      ]
     },
     "execution_count": 24,
     "metadata": {},
     "output_type": "execute_result"
    }
   ],
   "source": [
    "# Run in console the following command before run the rest of code:\n",
    "# jupyter nbextension enable --py --sys-prefix ipyleaflet\n",
    "\n",
    "from ipyleaflet import Map, basemaps\n",
    "\n",
    "# Map centred on (60 degrees latitude et -2.2 degrees longitude)\n",
    "# Latitude, longitude\n",
    "map = Map(center = (40.30, -3.6), zoom = 10, min_zoom = 1, max_zoom = 20, \n",
    "    basemap=basemaps.Stamen.Terrain)\n",
    "map"
   ]
  },
  {
   "cell_type": "code",
   "execution_count": 23,
   "id": "f7931ec0",
   "metadata": {},
   "outputs": [
    {
     "data": {
      "text/plain": [
       "<matplotlib.legend.Legend at 0x7f5bdc918970>"
      ]
     },
     "execution_count": 23,
     "metadata": {},
     "output_type": "execute_result"
    },
    {
     "data": {
      "image/png": "[encoded data removed]",
      "text/plain": [
       "<Figure size 576x432 with 1 Axes>"
      ]
     },
     "metadata": {
      "needs_background": "light"
     },
     "output_type": "display_data"
    }
   ],
   "source": [
    "## HERE: plot the coordinates of the estates\n",
    "\n",
    "## PUT HERE YOUR CODE:\n",
    "\n",
    "fig, ax = plt.subplots(figsize=(8,6))\n",
    "\n",
    "longitudes_fuenlabrada = np.array([float(i.replace(',', '.')) for i in south_belt['longitude'][south_belt['level5'] == populations[0]]])\n",
    "longitudes_leganes = np.array([float(i.replace(',', '.')) for i in south_belt['longitude'][south_belt['level5'] == populations[1]]])\n",
    "longitudes_getafe = np.array([float(i.replace(',', '.')) for i in south_belt['longitude'][south_belt['level5'] == populations[2]]])\n",
    "longitudes_alcorcon = np.array([float(i.replace(',', '.')) for i in south_belt['longitude'][south_belt['level5'] == populations[3]]])\n",
    "\n",
    "latitudes_fuenlabrada = np.array([float(i.replace(',', '.')) for i in south_belt['latitude'][south_belt['level5'] == populations[0]]])\n",
    "latitudes_leganes = np.array([float(i.replace(',', '.')) for i in south_belt['latitude'][south_belt['level5'] == populations[1]]])\n",
    "latitudes_getafe = np.array([float(i.replace(',', '.')) for i in south_belt['latitude'][south_belt['level5'] == populations[2]]])\n",
    "latitudes_alcorcon = np.array([float(i.replace(',', '.')) for i in south_belt['latitude'][south_belt['level5'] == populations[3]]])\n",
    "\n",
    "#delete values equal to zero\n",
    "longitudes_getafe = np.delete(longitudes_getafe, np.where(longitudes_getafe == 0)[0])\n",
    "longitudes_alcorcon = np.delete(longitudes_alcorcon, np.where(longitudes_alcorcon == 0)[0])\n",
    "latitudes_getafe = np.delete(latitudes_getafe, np.where(latitudes_getafe == 0)[0])\n",
    "latitudes_alcorcon = np.delete(latitudes_alcorcon, np.where(latitudes_alcorcon == 0)[0])\n",
    "\n",
    "ax.scatter(longitudes_fuenlabrada, latitudes_fuenlabrada, label='Fuenlabrada')\n",
    "ax.scatter(longitudes_leganes, latitudes_leganes, label='Leganés')\n",
    "ax.scatter(longitudes_getafe, latitudes_getafe, label='Getafe')\n",
    "ax.scatter(longitudes_alcorcon, latitudes_alcorcon, label='Alcorcón')\n",
    "ax.legend()"
   ]
  },
  {
   "cell_type": "markdown",
   "id": "b22874b7",
   "metadata": {},
   "source": [
    "#### What can you say about the price per square meter between the towns of Getafe and Alcorcón?"
   ]
  },
  {
   "cell_type": "code",
   "execution_count": 25,
   "id": "e0ef506b",
   "metadata": {},
   "outputs": [
    {
     "name": "stdout",
     "output_type": "stream",
     "text": [
      "min price per sqm in Getage: 1196.6666666666667\n",
      "max price per sqm in Getage: 3827.1604938271603\n",
      "mean price per sqm in Getage: 2174.5934618759934\n",
      "for this price you can by only 20% of all the house in Getage: 1670.1037186946621\n",
      "for this price you can by 95% of all the house in Getage: 3247.738095238095\n",
      "------------------------------------------------\n",
      "min price per sqm in Alcorcón: 604.7619047619048\n",
      "max price per sqm in Alcorcón: 3698.159509202454\n",
      "mean price per sqm in Alcorcón 2239.302480199618\n",
      "for this price you can by only 20% of all the house in Alcorcón: 1825.0\n",
      "for this price you can by 95% of all the house in Alcorcón: 3232.990533562823\n"
     ]
    }
   ],
   "source": [
    "\n",
    "t = df.loc[df['level5'].isin([\"Getafe\",\"Alcorcón\"])]\n",
    "\n",
    "\n",
    "t = t.loc[t['price']!=0]\n",
    "t['price_per_sqm']=t['price']/t['surface']\n",
    "\n",
    "\n",
    "prices_sqm_getafe = t['price_per_sqm'].loc[t['level5']=='Getafe']\n",
    "prices_sqm_alcoron = t['price_per_sqm'].loc[t['level5']=='Alcorcón']\n",
    "\n",
    "\n",
    "print('min price per sqm in Getage:',prices_sqm_getafe.min())\n",
    "print('max price per sqm in Getage:',prices_sqm_getafe.max())\n",
    "print('mean price per sqm in Getage:',prices_sqm_getafe.mean())\n",
    "print('for this price you can by only 20% of all the house in Getage:',prices_sqm_getafe.quantile(q=0.20))\n",
    "print('for this price you can by 95% of all the house in Getage:',prices_sqm_getafe.quantile(q=0.95))\n",
    "print('------------------------------------------------')\n",
    "print('min price per sqm in Alcorcón:',prices_sqm_alcoron.min())\n",
    "print('max price per sqm in Alcorcón:',prices_sqm_alcoron.max())\n",
    "print('mean price per sqm in Alcorcón',prices_sqm_alcoron.mean())\n",
    "print('for this price you can by only 20% of all the house in Alcorcón:',prices_sqm_alcoron.quantile(q=0.20))\n",
    "print('for this price you can by 95% of all the house in Alcorcón:',prices_sqm_alcoron.quantile(q=0.95))"
   ]
  },
  {
   "cell_type": "markdown",
   "id": "a4376b3f",
   "metadata": {},
   "source": [
    "#### Reload the data, is the average of \"Valdemorillo\" and \"Galapagar\" prices the same?"
   ]
  },
  {
   "cell_type": "code",
   "execution_count": 26,
   "id": "37dbaf65",
   "metadata": {},
   "outputs": [
    {
     "name": "stdout",
     "output_type": "stream",
     "text": [
      "average price in Valdemorillo: 363860.2931034483\n",
      "average price in Galapagar: 360063.20238095237\n"
     ]
    }
   ],
   "source": [
    "t = df.loc[df['level5'].isin([\"Valdemorillo\",\"Galapagar\"])]\n",
    "\n",
    "t= t.loc[t['price']!=0]\n",
    "\n",
    "val_prices=t.loc[t['level5']=='Valdemorillo']['price']\n",
    "gal_prices=t.loc[t['level5']=='Galapagar']['price']\n",
    "\n",
    "print('average price in Valdemorillo:',val_prices.mean())\n",
    "print('average price in Galapagar:',gal_prices.mean())"
   ]
  },
  {
   "cell_type": "markdown",
   "id": "b6af45ec",
   "metadata": {},
   "source": [
    "#### What happens if we do the same analysis for price/m2 (★★☆) "
   ]
  },
  {
   "cell_type": "code",
   "execution_count": 27,
   "id": "8231d73e",
   "metadata": {},
   "outputs": [
    {
     "name": "stdout",
     "output_type": "stream",
     "text": [
      "average price per sqm in Valdemorillo 1317.9502109024986\n",
      "average price per sqm in Galapagar 1606.3240303094024\n"
     ]
    }
   ],
   "source": [
    "t['price per sqm']=t['price']/t['surface']\n",
    "\n",
    "prices_sqm_val = t.loc[t['level5']=='Valdemorillo']['price per sqm']\n",
    "prices_sqm_gal = t.loc[t['level5']=='Galapagar']['price per sqm']\n",
    "\n",
    "print('average price per sqm in Valdemorillo',prices_sqm_val.mean())\n",
    "print('average price per sqm in Galapagar',prices_sqm_gal.mean())"
   ]
  },
  {
   "cell_type": "markdown",
   "id": "2d40e202",
   "metadata": {},
   "source": [
    "#### Could you say there is a relation between surface and price? (★★☆) \n",
    "Hint: make a scatter plot."
   ]
  },
  {
   "cell_type": "code",
   "execution_count": 28,
   "id": "405462e1",
   "metadata": {},
   "outputs": [
    {
     "data": {
      "text/plain": [
       "<AxesSubplot:xlabel='surface', ylabel='price'>"
      ]
     },
     "execution_count": 28,
     "metadata": {},
     "output_type": "execute_result"
    },
    {
     "data": {
      "image/png": "[encoded data removed]",
      "text/plain": [
       "<Figure size 432x288 with 1 Axes>"
      ]
     },
     "metadata": {
      "needs_background": "light"
     },
     "output_type": "display_data"
    }
   ],
   "source": [
    "x = south_belt.loc[south_belt['price']!=0]\n",
    "\n",
    "x.plot(kind='scatter', x=\"surface\", y=\"price\")"
   ]
  },
  {
   "cell_type": "markdown",
   "id": "3275db77",
   "metadata": {},
   "source": [
    "#### Make the same plot for 4 different populations (level5) and rearrange them on the same graph? (★★☆) \n",
    "Hint: make a scatter plot of each population using subplots."
   ]
  },
  {
   "cell_type": "code",
   "execution_count": 29,
   "id": "e08292ff",
   "metadata": {},
   "outputs": [
    {
     "data": {
      "text/plain": [
       "<AxesSubplot:xlabel='surface', ylabel='price'>"
      ]
     },
     "execution_count": 29,
     "metadata": {},
     "output_type": "execute_result"
    },
    {
     "data": {
      "image/png": "[encoded data removed]",
      "text/plain": [
       "<Figure size 432x288 with 1 Axes>"
      ]
     },
     "metadata": {
      "needs_background": "light"
     },
     "output_type": "display_data"
    },
    {
     "data": {
      "image/png": "[encoded data removed]",
      "text/plain": [
       "<Figure size 432x288 with 1 Axes>"
      ]
     },
     "metadata": {
      "needs_background": "light"
     },
     "output_type": "display_data"
    },
    {
     "data": {
      "image/png": "[encoded data removed]",
      "text/plain": [
       "<Figure size 432x288 with 1 Axes>"
      ]
     },
     "metadata": {
      "needs_background": "light"
     },
     "output_type": "display_data"
    },
    {
     "data": {
      "image/png": "[encoded data removed]",
      "text/plain": [
       "<Figure size 432x288 with 1 Axes>"
      ]
     },
     "metadata": {
      "needs_background": "light"
     },
     "output_type": "display_data"
    }
   ],
   "source": [
    "df1 = df[df['level5'] == 'Arganda del Rey']\n",
    "df1 = df1[df1['price'] > 0]\n",
    "\n",
    "df2 = df[df['level5'] == 'Fuenlabrada']\n",
    "df2 = df2[df2['price'] > 0]\n",
    "\n",
    "df3 = df[df['level5'] == 'Boadilla del Monte']\n",
    "df3 = df3[df3['price'] > 0]\n",
    "\n",
    "df4 = df[df['level5'] == 'Las Rozas de Madrid']\n",
    "df4 = df4[df4['price'] > 0]\n",
    "\n",
    "# plt.subplot(4,1,1)\n",
    "df1.plot(kind='scatter', x=\"surface\", y=\"price\")\n",
    "df2.plot(kind='scatter', x=\"surface\", y=\"price\")\n",
    "df3.plot(kind='scatter', x=\"surface\", y=\"price\")\n",
    "df4.plot(kind='scatter', x=\"surface\", y=\"price\")"
   ]
  },
  {
   "cell_type": "markdown",
   "id": "522c6bd9",
   "metadata": {},
   "source": [
    "#### How many  real estate agencies the dataset contains? (★★☆) "
   ]
  },
  {
   "cell_type": "code",
   "execution_count": null,
   "id": "014ec6c8",
   "metadata": {},
   "outputs": [
    {
     "name": "stdout",
     "output_type": "stream",
     "text": [
      "14217\n"
     ]
    }
   ],
   "source": [
    "group_id_realstate = df.groupby(['id_realEstates'])\n",
    "print(len(group_id_realstate.size()))"
   ]
  },
  {
   "cell_type": "markdown",
   "id": "899a101e",
   "metadata": {},
   "source": [
    "#### What is the population (level 5) that contains the most houses? (★★☆) "
   ]
  },
  {
   "cell_type": "code",
   "execution_count": null,
   "id": "9e8b34ba",
   "metadata": {},
   "outputs": [
    {
     "name": "stdout",
     "output_type": "stream",
     "text": [
      " Madrid Capital\n"
     ]
    }
   ],
   "source": [
    "group_lvl_5_pop = df.groupby(['level5'])\n",
    "houses_lvl_5_pop = group_lvl_5_pop['level5'].count()\n",
    "print(houses_lvl_5_pop.idxmax())"
   ]
  }
 ],
 "metadata": {
  "kernelspec": {
   "display_name": "Python 3.8.13 64-bit ('shims')",
   "language": "python",
   "name": "python3"
  },
  "language_info": {
   "codemirror_mode": {
    "name": "ipython",
    "version": 3
   },
   "file_extension": ".py",
   "mimetype": "text/x-python",
   "name": "python",
   "nbconvert_exporter": "python",
   "pygments_lexer": "ipython3",
   "version": "3.8.13"
  },
  "vscode": {
   "interpreter": {
    "hash": "9ac03a0a6051494cc606d484d27d20fce22fb7b4d169f583271e11d5ba46a56e"
   }
  }
 },
 "nbformat": 4,
 "nbformat_minor": 5
}
